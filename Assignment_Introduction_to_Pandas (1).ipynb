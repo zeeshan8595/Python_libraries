{
 "cells": [
  {
   "cell_type": "markdown",
   "metadata": {
    "id": "MKXTc2Tas23T"
   },
   "source": [
    "# <u> Use only those concepts which have been taught till now </u>"
   ]
  },
  {
   "cell_type": "code",
   "execution_count": 7,
   "metadata": {
    "id": "0V3Xtuh9siNn"
   },
   "outputs": [],
   "source": [
    "import numpy as np\n",
    "import pandas as pd"
   ]
  },
  {
   "cell_type": "markdown",
   "metadata": {
    "id": "Ase3qjp9cJUC"
   },
   "source": [
    "# <u>**Problem 1**</u>\n",
    "\n",
    "### You are given a list of urls. You need to extract the domain name from the urls in another list. Also you need to extract the ending string which the url ends with. \n",
    "\n",
    "### For example, https://www.example.com/market.php -- In this example, domain name is <code>www.example.com</code> and the ending string is <code>php</code>\n",
    "\n"
   ]
  },
  {
   "cell_type": "code",
   "execution_count": 1,
   "metadata": {
    "id": "xj0SaK7smcPu"
   },
   "outputs": [],
   "source": [
    "# List of urls\n",
    "url_list = ['https://blog.hubspot.com/marketing/parts-url',\n",
    "            'https://www.almabetter.com/enrollments',\n",
    "            'https://pandas.pydata.org/pandas-docs/stable/reference/api/pandas.DataFrame.rename.html',\n",
    "            'https://www.programiz.com/python-programming/list']\n",
    "s=[]\n",
    "sss=[]\n",
    "domain_list=[]\n",
    "for i in range(len(url_list)):\n",
    "    t=url_list[i].split('/')\n",
    "    s.append(t)\n",
    "    tt=s[i][2]\n",
    "    domain_list.append(tt)\n",
    "\n",
    "#print(domain_list)\n",
    "    \n",
    "ending_string_list=[]\n",
    "for i in range(len(s)):\n",
    "    \n",
    "        t1=s[i][-1]\n",
    "        sss.append(t1)\n",
    "        \n",
    "#print(sss)\n",
    "\n",
    "a=[]\n",
    "for i in range (len(sss)):\n",
    "    z=sss[i].split('.')\n",
    "    a.append(z)\n",
    "\n",
    "\n",
    "ws=a[0][0].split('-')\n",
    "a[0]=ws\n",
    "\n",
    "#print(a)\n",
    "\n",
    "for i in range(len(a)):\n",
    "    ending_string_list.append(a[i][-1])\n",
    "#print(ending_string_list)        \n"
   ]
  },
  {
   "cell_type": "code",
   "execution_count": 5,
   "metadata": {
    "id": "N1hhYCZw3V1c"
   },
   "outputs": [
    {
     "name": "stdout",
     "output_type": "stream",
     "text": [
      "domain name list is  ['blog.hubspot.com', 'www.almabetter.com', 'pandas.pydata.org', 'www.programiz.com']\n",
      "the ending string list is  ['url', 'enrollments', 'html', 'list']\n"
     ]
    }
   ],
   "source": [
    "# Extract the domains and the ending string. Hint : use the split method for a string\n",
    "\n",
    "print('domain name list is ',domain_list)  \n",
    "\n",
    "print('the ending string list is ',ending_string_list) \n"
   ]
  },
  {
   "cell_type": "markdown",
   "metadata": {
    "id": "EVgY54DrvLEF"
   },
   "source": [
    "## Next create a pandas dataframe with the above three lists."
   ]
  },
  {
   "cell_type": "code",
   "execution_count": 8,
   "metadata": {
    "id": "2osXcjvpu6Uz"
   },
   "outputs": [],
   "source": [
    "# Your code here. Hint : zip the three lists\n",
    "\n",
    "\n",
    "df=pd.DataFrame([url_list,domain_list,ending_string_list])\n"
   ]
  },
  {
   "cell_type": "code",
   "execution_count": 12,
   "metadata": {},
   "outputs": [
    {
     "data": {
      "text/html": [
       "<div>\n",
       "<style scoped>\n",
       "    .dataframe tbody tr th:only-of-type {\n",
       "        vertical-align: middle;\n",
       "    }\n",
       "\n",
       "    .dataframe tbody tr th {\n",
       "        vertical-align: top;\n",
       "    }\n",
       "\n",
       "    .dataframe thead th {\n",
       "        text-align: right;\n",
       "    }\n",
       "</style>\n",
       "<table border=\"1\" class=\"dataframe\">\n",
       "  <thead>\n",
       "    <tr style=\"text-align: right;\">\n",
       "      <th></th>\n",
       "      <th>0</th>\n",
       "      <th>1</th>\n",
       "      <th>2</th>\n",
       "      <th>3</th>\n",
       "    </tr>\n",
       "  </thead>\n",
       "  <tbody>\n",
       "    <tr>\n",
       "      <th>0</th>\n",
       "      <td>https://blog.hubspot.com/marketing/parts-url</td>\n",
       "      <td>https://www.almabetter.com/enrollments</td>\n",
       "      <td>https://pandas.pydata.org/pandas-docs/stable/r...</td>\n",
       "      <td>https://www.programiz.com/python-programming/list</td>\n",
       "    </tr>\n",
       "    <tr>\n",
       "      <th>1</th>\n",
       "      <td>blog.hubspot.com</td>\n",
       "      <td>www.almabetter.com</td>\n",
       "      <td>pandas.pydata.org</td>\n",
       "      <td>www.programiz.com</td>\n",
       "    </tr>\n",
       "    <tr>\n",
       "      <th>2</th>\n",
       "      <td>url</td>\n",
       "      <td>enrollments</td>\n",
       "      <td>html</td>\n",
       "      <td>list</td>\n",
       "    </tr>\n",
       "  </tbody>\n",
       "</table>\n",
       "</div>"
      ],
      "text/plain": [
       "                                              0  \\\n",
       "0  https://blog.hubspot.com/marketing/parts-url   \n",
       "1                              blog.hubspot.com   \n",
       "2                                           url   \n",
       "\n",
       "                                        1  \\\n",
       "0  https://www.almabetter.com/enrollments   \n",
       "1                      www.almabetter.com   \n",
       "2                             enrollments   \n",
       "\n",
       "                                                   2  \\\n",
       "0  https://pandas.pydata.org/pandas-docs/stable/r...   \n",
       "1                                  pandas.pydata.org   \n",
       "2                                               html   \n",
       "\n",
       "                                                   3  \n",
       "0  https://www.programiz.com/python-programming/list  \n",
       "1                                  www.programiz.com  \n",
       "2                                               list  "
      ]
     },
     "execution_count": 12,
     "metadata": {},
     "output_type": "execute_result"
    }
   ],
   "source": [
    "df"
   ]
  },
  {
   "cell_type": "code",
   "execution_count": null,
   "metadata": {},
   "outputs": [],
   "source": []
  }
 ],
 "metadata": {
  "colab": {
   "collapsed_sections": [],
   "name": "Assignment - Introduction to Pandas.ipynb",
   "provenance": []
  },
  "kernelspec": {
   "display_name": "Python 3 (ipykernel)",
   "language": "python",
   "name": "python3"
  },
  "language_info": {
   "codemirror_mode": {
    "name": "ipython",
    "version": 3
   },
   "file_extension": ".py",
   "mimetype": "text/x-python",
   "name": "python",
   "nbconvert_exporter": "python",
   "pygments_lexer": "ipython3",
   "version": "3.9.7"
  }
 },
 "nbformat": 4,
 "nbformat_minor": 1
}
